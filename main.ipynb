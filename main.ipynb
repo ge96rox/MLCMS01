{
 "cells": [
  {
   "cell_type": "code",
   "execution_count": null,
   "metadata": {
    "collapsed": true
   },
   "outputs": [],
   "source": [
    "\n",
    "from Grid import *\n",
    "def runApp(r,c,w,h):\n",
    "    root = Tk()\n",
    "    myapp = gridWindow(root,r,c,w,h)\n",
    "    myapp.draw_grid()\n",
    "    myapp.draw_cells()\n",
    "    root.mainloop()\n",
    "\n",
    "if __name__ == '__main__':\n",
    "    p = Pedestrian(0,0)\n",
    "    t = Target(4,4)\n",
    "    o = Obstacle(2,4)\n",
    "\n",
    "    runApp(5, 5,600,600)"
   ]
  }
 ],
 "metadata": {
  "kernelspec": {
   "display_name": "Python 3",
   "language": "python",
   "name": "python3"
  },
  "language_info": {
   "codemirror_mode": {
    "name": "ipython",
    "version": 2
   },
   "file_extension": ".py",
   "mimetype": "text/x-python",
   "name": "python",
   "nbconvert_exporter": "python",
   "pygments_lexer": "ipython2",
   "version": "2.7.6"
  }
 },
 "nbformat": 4,
 "nbformat_minor": 0
}