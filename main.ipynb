{
 "cells": [
  {
   "cell_type": "code",
   "execution_count": 1,
   "metadata": {},
   "outputs": [],
   "source": [
    "from Grid import *"
   ]
  },
  {
   "cell_type": "code",
   "execution_count": 2,
   "metadata": {},
   "outputs": [],
   "source": [
    "def runApp(r,c,w,h):\n",
    "    root = Tk()\n",
    "    myapp = GridWindow(root,r,c,w,h)\n",
    "    myapp.draw_grid()\n",
    "    #myapp.draw_cells()\n",
    "    #myapp.get_EUtilMap()\n",
    "    root.mainloop()\n"
   ]
  },
  {
   "cell_type": "markdown",
   "metadata": {},
   "source": [
    "# Task 1/5: Setting up the modeling environment\n"
   ]
  },
  {
   "cell_type": "code",
   "execution_count": 3,
   "metadata": {},
   "outputs": [
    {
     "name": "stdout",
     "output_type": "stream",
     "text": [
      "Loading file from /Users/longtaoliu/PycharmProjects/MLCMS01/data.json\n"
     ]
    },
    {
     "name": "stderr",
     "output_type": "stream",
     "text": [
      "Exception in Tkinter callback\n",
      "Traceback (most recent call last):\n",
      "  File \"/Users/longtaoliu/opt/anaconda3/lib/python3.7/tkinter/__init__.py\", line 1705, in __call__\n",
      "    return self.func(*args)\n",
      "  File \"/Users/longtaoliu/PycharmProjects/MLCMS01/Grid.py\", line 232, in load_grid\n",
      "    self.draw_cells()\n",
      "  File \"/Users/longtaoliu/PycharmProjects/MLCMS01/Grid.py\", line 254, in draw_cells\n",
      "    self.myCanvas.itemconfig(self.cells[obj.current_row, obj.current_col], fill='purple')\n",
      "KeyError: (5, 5)\n"
     ]
    },
    {
     "name": "stdout",
     "output_type": "stream",
     "text": [
      "[]\n"
     ]
    },
    {
     "name": "stderr",
     "output_type": "stream",
     "text": [
      "Exception in Tkinter callback\n",
      "Traceback (most recent call last):\n",
      "  File \"/Users/longtaoliu/opt/anaconda3/lib/python3.7/tkinter/__init__.py\", line 1705, in __call__\n",
      "    return self.func(*args)\n",
      "  File \"/Users/longtaoliu/PycharmProjects/MLCMS01/Grid.py\", line 282, in update_cells\n",
      "    if obj.find_position() == self.list_of_t[0]:\n",
      "IndexError: list index out of range\n"
     ]
    }
   ],
   "source": [
    "if __name__ == '__main__':\n",
    "    #p1 = Pedestrian(0,0)\n",
    "    #p2 = Pedestrian(2,2)\n",
    "    #t = Target(4,3)\n",
    "    #o = Obstacle(2,4)\n",
    "\n",
    "    runApp(5,5,600,600)\n",
    "    #use update button to proceed"
   ]
  },
  {
   "cell_type": "markdown",
   "metadata": {},
   "source": [
    "# Task 2/5: First step of a single pedestrian"
   ]
  },
  {
   "cell_type": "code",
   "execution_count": null,
   "metadata": {},
   "outputs": [],
   "source": []
  }
 ],
 "metadata": {
  "kernelspec": {
   "display_name": "Python 3",
   "language": "python",
   "name": "python3"
  },
  "language_info": {
   "codemirror_mode": {
    "name": "ipython",
    "version": 3
   },
   "file_extension": ".py",
   "mimetype": "text/x-python",
   "name": "python",
   "nbconvert_exporter": "python",
   "pygments_lexer": "ipython3",
   "version": "3.7.10"
  }
 },
 "nbformat": 4,
 "nbformat_minor": 1
}