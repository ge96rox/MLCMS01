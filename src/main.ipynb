{
 "cells": [
  {
   "cell_type": "code",
   "execution_count": null,
   "metadata": {},
   "outputs": [
    {
     "name": "stdout",
     "output_type": "stream",
     "text": [
      "Loading file from /Users/longtaoliu/PycharmProjects/MLCMS01/data/data.json\n",
      "(0,0)inf\n",
      "(0,1)0.6589\n",
      "(1,1)0.5779\n",
      "(2,0)0.731\n",
      "(2,1)0.5482\n",
      "(2, 1)\n",
      "(0,3)0.4086\n",
      "(1,3)0.2584\n",
      "(1,4)0.1827\n",
      "(1, 4)\n",
      "(3,1)0.5779\n",
      "(3,2)0.4086\n",
      "(3,3)0.2584\n",
      "(4,1)0.6589\n",
      "(4,3)0.4086\n",
      "(3, 3)\n",
      "[(4, 2), (1, 0), (0, 4)]\n",
      "(1,0)0.7535\n",
      "(1,1)0.5779\n",
      "(1,2)0.4086\n",
      "(2,0)0.731\n",
      "(2,2)0.3655\n",
      "(3,0)0.7535\n",
      "(3,1)0.5779\n",
      "(3,2)0.4086\n",
      "(2, 2)\n",
      "(0,3)0.4086\n",
      "(0,4)0.3655\n",
      "(1,3)0.2584\n",
      "(2,3)0.1827\n",
      "(2,4)0.0\n",
      "(2, 4)\n",
      "(2,2)0.3655\n",
      "(2,3)0.1827\n",
      "(2,4)0.0\n",
      "(3,2)0.4086\n",
      "(3,4)0.1827\n",
      "(4,2)0.5169\n",
      "(4,3)0.4086\n",
      "(4,4)0.3655\n",
      "(2, 4)\n",
      "[(3, 3), (2, 1)]\n",
      "(1,1)0.5779\n",
      "(1,2)0.4086\n",
      "(1,3)0.2584\n",
      "(2,1)0.5482\n",
      "(2,3)0.1827\n",
      "(3,1)0.5779\n",
      "(3,2)0.4086\n",
      "(3,3)0.2584\n",
      "(2, 3)\n",
      "(0,3)0.4086\n",
      "(0,4)0.3655\n",
      "(1,3)0.2584\n",
      "(2,3)0.1827\n",
      "(2,4)0.0\n",
      "(2, 4)\n",
      "[(1, 4), (2, 2)]\n",
      "(1,2)0.4086\n",
      "(1,3)0.2584\n",
      "(1,4)0.1827\n",
      "(2,2)0.3655\n",
      "(2,4)0.0\n",
      "(3,2)0.4086\n",
      "(3,3)0.2584\n",
      "(3,4)0.1827\n",
      "(2, 4)\n",
      "[(2, 3)]\n",
      "[]\n",
      "[]\n"
     ]
    }
   ],
   "source": [
    "from classes.Grid import *\n",
    "\n",
    "\n",
    "def runApp(r,c,w,h):\n",
    "    root = Tk()\n",
    "    myapp = GridWindow(root,r,c,w,h)\n",
    "    myapp.draw_grid()\n",
    "    #myapp.draw_cells()\n",
    "    #myapp.get_EUtilMap()\n",
    "    root.mainloop()\n",
    "    \n",
    "if __name__ == '__main__':\n",
    "    \n",
    "\n",
    "    runApp(5,5,600,600)\n",
    "    #use update button to proceed"
   ]
  },
  {
   "cell_type": "markdown",
   "metadata": {},
   "source": [
    "def runApp(r,c,w,h):\n",
    "    root = Tk()\n",
    "    myapp = GridWindow(root,r,c,w,h)\n",
    "    myapp.draw_grid()\n",
    "    #myapp.draw_cells()\n",
    "    #myapp.get_EUtilMap()\n",
    "    root.mainloop()\n"
   ]
  },
  {
   "cell_type": "markdown",
   "metadata": {},
   "source": [
    "# Task 1/5: Setting up the modeling environment\n"
   ]
  },
  {
   "cell_type": "markdown",
   "metadata": {},
   "source": [
    "if __name__ == '__main__':\n",
    "    #p1 = Pedestrian(0,0)\n",
    "    #p2 = Pedestrian(2,2)\n",
    "    #t = Target(4,3)\n",
    "    #o = Obstacle(2,4)\n",
    "\n",
    "    runApp(5,5,600,600)\n",
    "    #use update button to proceed"
   ]
  },
  {
   "cell_type": "markdown",
   "metadata": {},
   "source": [
    "# Task 2/5: First step of a single pedestrian"
   ]
  },
  {
   "cell_type": "code",
   "execution_count": null,
   "metadata": {},
   "outputs": [],
   "source": []
  },
  {
   "cell_type": "code",
   "execution_count": null,
   "metadata": {},
   "outputs": [],
   "source": [
    "\n"
   ]
  }
 ],
 "metadata": {
  "kernelspec": {
   "display_name": "Python 3",
   "language": "python",
   "name": "python3"
  },
  "language_info": {
   "codemirror_mode": {
    "name": "ipython",
    "version": 3
   },
   "file_extension": ".py",
   "mimetype": "text/x-python",
   "name": "python",
   "nbconvert_exporter": "python",
   "pygments_lexer": "ipython3",
   "version": "3.7.10"
  }
 },
 "nbformat": 4,
 "nbformat_minor": 1
}