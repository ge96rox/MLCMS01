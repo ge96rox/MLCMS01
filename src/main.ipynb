{
 "cells": [
  {
   "cell_type": "code",
   "execution_count": 3,
   "metadata": {},
   "outputs": [],
   "source": [
    "from classes.Grid import *"
   ]
  },
  {
   "cell_type": "code",
   "execution_count": 4,
   "metadata": {},
   "outputs": [],
   "source": [
    "def runApp(r,c,w,h):\n",
    "    root = Tk()\n",
    "    myapp = GridWindow(root,r,c,w,h)\n",
    "    myapp.draw_grid()\n",
    "    #myapp.draw_cells()\n",
    "    #myapp.get_EUtilMap()\n",
    "    root.mainloop()\n"
   ]
  },
  {
   "cell_type": "markdown",
   "metadata": {},
   "source": [
    "# Task 1/5: Setting up the modeling environment\n"
   ]
  },
  {
   "cell_type": "code",
   "execution_count": null,
   "metadata": {},
   "outputs": [
    {
     "name": "stdout",
     "output_type": "stream",
     "text": [
      "Loading file from /Users/longtaoliu/PycharmProjects/MLCMS01/data/task01.json\n",
      "(1,1)0.6009\n",
      "(1,2)0.527\n",
      "(1,3)0.5\n",
      "(2,1)0.4714\n",
      "(2,3)0.3333\n",
      "(3,1)0.3727\n",
      "(3,2)0.2357\n",
      "(3,3)0.1667\n",
      "(3, 3)\n",
      "(2,2)0.3727\n",
      "(2,3)0.3333\n",
      "(2,4)0.3727\n",
      "(3,2)0.2357\n",
      "(3,4)0.2357\n",
      "(4,2)0.1667\n",
      "(4,3)0.0\n",
      "(4,4)0.1667\n",
      "(4, 3)\n"
     ]
    }
   ],
   "source": [
    "if __name__ == '__main__':\n",
    "    #p1 = Pedestrian(0,0)\n",
    "    #p2 = Pedestrian(2,2)\n",
    "    #t = Target(4,3)\n",
    "    #o = Obstacle(2,4)\n",
    "\n",
    "    runApp(5,5,600,600)\n",
    "    #use update button to proceed"
   ]
  },
  {
   "cell_type": "markdown",
   "metadata": {},
   "source": [
    "# Task 2/5: First step of a single pedestrian"
   ]
  },
  {
   "cell_type": "code",
   "execution_count": null,
   "metadata": {},
   "outputs": [],
   "source": []
  }
 ],
 "metadata": {
  "kernelspec": {
   "display_name": "Python 3",
   "language": "python",
   "name": "python3"
  },
  "language_info": {
   "codemirror_mode": {
    "name": "ipython",
    "version": 3
   },
   "file_extension": ".py",
   "mimetype": "text/x-python",
   "name": "python",
   "nbconvert_exporter": "python",
   "pygments_lexer": "ipython3",
   "version": "3.7.10"
  }
 },
 "nbformat": 4,
 "nbformat_minor": 1
}