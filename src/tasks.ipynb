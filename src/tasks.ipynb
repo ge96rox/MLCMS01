{
 "cells": [
  {
   "cell_type": "code",
   "execution_count": 3,
   "metadata": {},
   "outputs": [
    {
     "name": "stdout",
     "output_type": "stream",
     "text": [
      "Loading file from /Users/longtaoliu/PycharmProjects/MLCMS01/data/chicken_test.json\n"
     ]
    }
   ],
   "source": [
    "from classes.Grid import *\n",
    "\n",
    "\n",
    "def run_app():\n",
    "    root = Tk()\n",
    "    root.geometry(\"1000x1000\")\n",
    "    GridWindow(root)\n",
    "    root.mainloop()\n",
    "\n",
    "if __name__ == '__main__':\n",
    "    \n",
    "    run_app()"
   ]
  },
  {
   "cell_type": "markdown",
   "metadata": {},
   "source": [
    "# Task 1/5: Setting up the modeling environment\n"
   ]
  },
  {
   "cell_type": "markdown",
   "metadata": {},
   "source": [
    "  \n",
    "data = {\n",
    "    \"rows\": 5,\n",
    "    \"cols\": 5,\n",
    "    \"width\": 400,\n",
    "    \"height\": 400,\n",
    "    \"pedestrians\": [ [2,2] ],\n",
    "    \"obstacles\": [ ],\n",
    "    \"target\": [ [4,2] ],\n",
    "    \"method\": \"Euclidean\"\n",
    "    }\n",
    "\n",
    " "
   ]
  },
  {
   "cell_type": "markdown",
   "metadata": {},
   "source": [
    "# Task 2/5: First step of a single pedestrian"
   ]
  },
  {
   "cell_type": "markdown",
   "metadata": {},
   "source": [
    "  \n",
    "data = {\n",
    "    \"rows\": 50,\n",
    "    \"cols\": 50,\n",
    "    \"width\": 800,\n",
    "    \"height\": 800,\n",
    "    \"pedestrians\": [ [5,25] ],\n",
    "    \"obstacles\": [ ],\n",
    "    \"target\": [ [25,25] ],\n",
    "    \"method\": \"Euclidean\"\n",
    "    }\n"
   ]
  },
  {
   "cell_type": "markdown",
   "metadata": {},
   "source": [
    "# Task 3/5: Interaction of pedestrians\n",
    "\n"
   ]
  },
  {
   "cell_type": "markdown",
   "metadata": {},
   "source": [
    "data = {\n",
    "    \"rows\": 25,\n",
    "    \"cols\": 25,\n",
    "    \"width\": 600,\n",
    "    \"height\": 600,\n",
    "    \"pedestrians\": [ [2,12],[12,22],[22,12],[12,2],[6,4],[6,20],[19,6],[19,19] ],\n",
    "    \"obstacles\": [ ],\n",
    "    \"target\": [ [12,12] ],\n",
    "    \"method\": \"Euclidean+Cost\"\n",
    "}"
   ]
  },
  {
   "cell_type": "markdown",
   "metadata": {},
   "source": [
    " # Task 4/5: Obstacle avoidance"
   ]
  },
  {
   "cell_type": "markdown",
   "metadata": {},
   "source": [
    "## bottleneck test"
   ]
  },
  {
   "cell_type": "code",
   "execution_count": null,
   "metadata": {},
   "outputs": [],
   "source": [
    "data = {\"rows\": 25, \"cols\": 25, \"width\": 600, \"height\": 600, \"method\": \"Euclidean+Cost\"}\n",
    "data['obstacles'] = [[8,i] for i in range(25)]\n",
    "data['obstacles'].extend([19,i] for i in range(25))\n",
    "data['obstacles'].extend([i,10] for i in range(9,13))\n",
    "data['obstacles'].extend([[13,i] for i in range(10,15)])\n",
    "data['obstacles'].extend([[i,15] for i in range(9,14)])\n",
    "data['obstacles'].extend([[i,10] for i in range(15,19)])\n",
    "data['obstacles'].extend([[i,15] for i in range(15,19)])\n",
    "data['obstacles'].extend([[15,i] for i in range(10,15)])\n",
    "data['pedestrians']=[[i,0] for i in range(17,9,-1)]\n",
    "data['target']=[[14,24]]\n",
    "\n",
    "import json as js\n",
    "with open(\"bottleneck.json\",\"w\") as json_file:\n",
    "    js.dump(data,json_file)"
   ]
  },
  {
   "cell_type": "markdown",
   "metadata": {},
   "source": [
    "## chicken test"
   ]
  },
  {
   "cell_type": "code",
   "execution_count": 2,
   "metadata": {},
   "outputs": [],
   "source": [
    "data = {\"rows\": 25, \"cols\": 25, \"width\": 600, \"height\": 600, \"method\": \"Dijkstra+Cost\"}\n",
    "data['obstacles'] = [[5,i] for i in range(5,15)]\n",
    "data['obstacles'].extend([[20,i] for i in range(5,15)])\n",
    "data['obstacles'].extend([[i,15] for i in range(5,21)])\n",
    "data['pedestrians']=[[14,0]]\n",
    "data['target']=[[14,24]]\n",
    "\n",
    "import json as js\n",
    "with open(\"chicken_test.json\",\"w\") as json_file:\n",
    "    js.dump(data,json_file)"
   ]
  },
  {
   "cell_type": "code",
   "execution_count": null,
   "metadata": {},
   "outputs": [],
   "source": []
  }
 ],
 "metadata": {
  "kernelspec": {
   "display_name": "Python 3",
   "language": "python",
   "name": "python3"
  },
  "language_info": {
   "codemirror_mode": {
    "name": "ipython",
    "version": 3
   },
   "file_extension": ".py",
   "mimetype": "text/x-python",
   "name": "python",
   "nbconvert_exporter": "python",
   "pygments_lexer": "ipython3",
   "version": "3.7.10"
  }
 },
 "nbformat": 4,
 "nbformat_minor": 1
}
