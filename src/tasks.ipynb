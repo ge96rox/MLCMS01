{
 "cells": [
  {
   "cell_type": "code",
   "execution_count": 1,
   "metadata": {},
   "outputs": [],
   "source": [
    "from classes.Grid import *\n",
    "\n",
    "\n",
    "def runApp():\n",
    "    root = Tk()\n",
    "    myapp = GridWindow(root)\n",
    "    root.mainloop()\n",
    "    \n",
    "#if __name__ == '__main__':\n",
    "   # runApp(5,5,600,600)\n",
    "    "
   ]
  },
  {
   "cell_type": "markdown",
   "metadata": {},
   "source": [
    "# Task 1/5: Setting up the modeling environment\n"
   ]
  },
  {
   "cell_type": "code",
   "execution_count": null,
   "metadata": {},
   "outputs": [
    {
     "name": "stdout",
     "output_type": "stream",
     "text": [
      "Loading file from /Users/longtaoliu/PycharmProjects/MLCMS01/data/task01.json\n",
      "[[0.8173 0.7535 0.731  0.7535 0.8173]\n",
      " [0.6589 0.5779 0.5482 0.5779 0.6589]\n",
      " [0.5169 0.4086 0.3655 0.4086 0.5169]\n",
      " [0.4086 0.2584 0.1827 0.2584 0.4086]\n",
      " [0.3655 0.1827 0.     0.1827 0.3655]]\n",
      "[[0. 0. 0. 0. 0.]\n",
      " [0. 0. 0. 0. 0.]\n",
      " [0. 0. 0. 0. 0.]\n",
      " [0. 0. 0. 0. 0.]\n",
      " [0. 0. 0. 0. 0.]]\n",
      "[[0.8173 0.7535 0.731  0.7535 0.8173]\n",
      " [0.6589 0.5779 0.5482 0.5779 0.6589]\n",
      " [0.5169 0.4086 0.3655 0.4086 0.5169]\n",
      " [0.4086 0.2584 0.1827 0.2584 0.4086]\n",
      " [0.3655 0.1827 0.     0.1827 0.3655]]\n",
      "[[0. 0. 0. 0. 0.]\n",
      " [0. 0. 0. 0. 0.]\n",
      " [0. 0. 0. 0. 0.]\n",
      " [0. 0. 0. 0. 0.]\n",
      " [0. 0. 0. 0. 0.]]\n"
     ]
    }
   ],
   "source": [
    "if __name__ == '__main__':\n",
    "    \n",
    "    runApp()\n",
    "    \n",
    "    "
   ]
  },
  {
   "cell_type": "markdown",
   "metadata": {},
   "source": [
    "# Task 2/5: First step of a single pedestrian"
   ]
  },
  {
   "cell_type": "code",
   "execution_count": null,
   "metadata": {},
   "outputs": [],
   "source": []
  },
  {
   "cell_type": "code",
   "execution_count": null,
   "metadata": {},
   "outputs": [],
   "source": [
    "\n"
   ]
  }
 ],
 "metadata": {
  "kernelspec": {
   "display_name": "Python 3",
   "language": "python",
   "name": "python3"
  },
  "language_info": {
   "codemirror_mode": {
    "name": "ipython",
    "version": 3
   },
   "file_extension": ".py",
   "mimetype": "text/x-python",
   "name": "python",
   "nbconvert_exporter": "python",
   "pygments_lexer": "ipython3",
   "version": "3.7.10"
  }
 },
 "nbformat": 4,
 "nbformat_minor": 1
}
