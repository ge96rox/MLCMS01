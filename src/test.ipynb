{
 "cells": [
  {
   "cell_type": "code",
   "execution_count": null,
   "id": "8dc554ce",
   "metadata": {},
   "outputs": [
    {
     "name": "stdout",
     "output_type": "stream",
     "text": [
      "Loading file from /Users/longtaoliu/PycharmProjects/MLCMS01/data/task03.json\n",
      "Loading file from /Users/longtaoliu/PycharmProjects/MLCMS01/data/task03.json\n"
     ]
    }
   ],
   "source": [
    "\n",
    "from classes.Grid import *\n",
    "\n",
    "\n",
    "def run_app():\n",
    "    root = Tk()\n",
    "    root.geometry(\"1000x1000\")\n",
    "    GridWindow(root)\n",
    "    root.mainloop()\n",
    "\n",
    "\n",
    "if __name__ == '__main__':\n",
    "\n",
    "    run_app()\n",
    "\n"
   ]
  },
  {
   "cell_type": "code",
   "execution_count": null,
   "id": "9dc1c385",
   "metadata": {},
   "outputs": [],
   "source": []
  },
  {
   "cell_type": "code",
   "execution_count": null,
   "id": "8551aeb5",
   "metadata": {},
   "outputs": [],
   "source": []
  },
  {
   "cell_type": "code",
   "execution_count": null,
   "id": "0e28834c",
   "metadata": {},
   "outputs": [],
   "source": []
  }
 ],
 "metadata": {
  "kernelspec": {
   "display_name": "Python 3",
   "language": "python",
   "name": "python3"
  },
  "language_info": {
   "codemirror_mode": {
    "name": "ipython",
    "version": 3
   },
   "file_extension": ".py",
   "mimetype": "text/x-python",
   "name": "python",
   "nbconvert_exporter": "python",
   "pygments_lexer": "ipython3",
   "version": "3.7.10"
  }
 },
 "nbformat": 4,
 "nbformat_minor": 5
}
