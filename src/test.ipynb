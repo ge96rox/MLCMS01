{
 "cells": [
  {
   "cell_type": "code",
   "execution_count": null,
   "id": "8dc554ce",
   "metadata": {},
   "outputs": [
    {
     "name": "stdout",
     "output_type": "stream",
     "text": [
      "Loading file from /Users/longtaoliu/PycharmProjects/MLCMS01/data/test1.json\n",
      "Loading file from /Users/longtaoliu/PycharmProjects/MLCMS01/data/test3.json\n",
      "Loading file from /Users/longtaoliu/PycharmProjects/MLCMS01/data/test4.json\n",
      "Loading file from /Users/longtaoliu/PycharmProjects/MLCMS01/data/test4.json\n"
     ]
    },
    {
     "name": "stderr",
     "output_type": "stream",
     "text": [
      "Exception in Tkinter callback\n",
      "Traceback (most recent call last):\n",
      "  File \"/Users/longtaoliu/opt/anaconda3/lib/python3.7/tkinter/__init__.py\", line 1705, in __call__\n",
      "    return self.func(*args)\n",
      "  File \"/Users/longtaoliu/opt/anaconda3/lib/python3.7/tkinter/__init__.py\", line 749, in callit\n",
      "    func(*args)\n",
      "  File \"/Users/longtaoliu/PycharmProjects/MLCMS01/src/classes/Grid.py\", line 305, in update_cells\n",
      "    p_to_update = self.handle_conflict()\n",
      "  File \"/Users/longtaoliu/PycharmProjects/MLCMS01/src/classes/Grid.py\", line 271, in handle_conflict\n",
      "    p.set_next_position(self.util_map)\n",
      "  File \"/Users/longtaoliu/PycharmProjects/MLCMS01/src/classes/Cell.py\", line 124, in set_next_position\n",
      "    best_n = self.search_strategy(util_map, row, column)\n",
      "  File \"/Users/longtaoliu/PycharmProjects/MLCMS01/src/classes/Strategy.py\", line 74, in find_best_neighbor_total\n",
      "    if 0 <= new_c <= c_map and m[r, new_c] <= min_u:\n",
      "IndexError: index 25 is out of bounds for axis 1 with size 25\n",
      "Exception in Tkinter callback\n",
      "Traceback (most recent call last):\n",
      "  File \"/Users/longtaoliu/opt/anaconda3/lib/python3.7/tkinter/__init__.py\", line 1705, in __call__\n",
      "    return self.func(*args)\n",
      "  File \"/Users/longtaoliu/PycharmProjects/MLCMS01/src/classes/Grid.py\", line 332, in animate\n",
      "    self.update_cells()\n",
      "  File \"/Users/longtaoliu/PycharmProjects/MLCMS01/src/classes/Grid.py\", line 305, in update_cells\n",
      "    p_to_update = self.handle_conflict()\n",
      "  File \"/Users/longtaoliu/PycharmProjects/MLCMS01/src/classes/Grid.py\", line 271, in handle_conflict\n",
      "    p.set_next_position(self.util_map)\n",
      "  File \"/Users/longtaoliu/PycharmProjects/MLCMS01/src/classes/Cell.py\", line 124, in set_next_position\n",
      "    best_n = self.search_strategy(util_map, row, column)\n",
      "  File \"/Users/longtaoliu/PycharmProjects/MLCMS01/src/classes/Strategy.py\", line 74, in find_best_neighbor_total\n",
      "    if 0 <= new_c <= c_map and m[r, new_c] <= min_u:\n",
      "IndexError: index 25 is out of bounds for axis 1 with size 25\n"
     ]
    },
    {
     "name": "stdout",
     "output_type": "stream",
     "text": [
      "Loading file from /Users/longtaoliu/PycharmProjects/MLCMS01/data/test1.json\n",
      "Loading file from /Users/longtaoliu/PycharmProjects/MLCMS01/data/test3.json\n",
      "Loading file from /Users/longtaoliu/PycharmProjects/MLCMS01/data/test4.json\n"
     ]
    }
   ],
   "source": [
    "\n",
    "from classes.Grid import *\n",
    "\n",
    "\n",
    "def run_app():\n",
    "    root = Tk()\n",
    "    root.geometry(\"1000x1000\")\n",
    "    GridWindow(root)\n",
    "    root.mainloop()\n",
    "\n",
    "\n",
    "if __name__ == '__main__':\n",
    "\n",
    "    run_app()\n",
    "\n"
   ]
  },
  {
   "cell_type": "code",
   "execution_count": null,
   "id": "9dc1c385",
   "metadata": {},
   "outputs": [],
   "source": []
  },
  {
   "cell_type": "code",
   "execution_count": null,
   "id": "8551aeb5",
   "metadata": {},
   "outputs": [],
   "source": []
  },
  {
   "cell_type": "code",
   "execution_count": null,
   "id": "0e28834c",
   "metadata": {},
   "outputs": [],
   "source": []
  }
 ],
 "metadata": {
  "kernelspec": {
   "display_name": "Python 3",
   "language": "python",
   "name": "python3"
  },
  "language_info": {
   "codemirror_mode": {
    "name": "ipython",
    "version": 3
   },
   "file_extension": ".py",
   "mimetype": "text/x-python",
   "name": "python",
   "nbconvert_exporter": "python",
   "pygments_lexer": "ipython3",
   "version": "3.7.10"
  }
 },
 "nbformat": 4,
 "nbformat_minor": 5
}
