{
 "cells": [
  {
   "cell_type": "code",
   "execution_count": 1,
   "id": "8dc554ce",
   "metadata": {},
   "outputs": [
    {
     "name": "stdout",
     "output_type": "stream",
     "text": [
      "Loading file from /Users/longtaoliu/PycharmProjects/MLCMS01/src/test2-1.json\n",
      "Loading file from /Users/longtaoliu/PycharmProjects/MLCMS01/src/test2-1.json\n",
      "Loading file from /Users/longtaoliu/PycharmProjects/MLCMS01/src/test2-2.json\n"
     ]
    },
    {
     "name": "stderr",
     "output_type": "stream",
     "text": [
      "Exception in Tkinter callback\n",
      "Traceback (most recent call last):\n",
      "  File \"/Users/longtaoliu/opt/anaconda3/lib/python3.7/tkinter/__init__.py\", line 1705, in __call__\n",
      "    return self.func(*args)\n",
      "  File \"/Users/longtaoliu/PycharmProjects/MLCMS01/src/classes/Grid.py\", line 158, in init_setup\n",
      "    self.load_grid(data)\n",
      "  File \"/Users/longtaoliu/PycharmProjects/MLCMS01/src/classes/Grid.py\", line 221, in load_grid\n",
      "    for row, col in data['pedestrians']:\n",
      "TypeError: 'NoneType' object is not subscriptable\n"
     ]
    },
    {
     "name": "stdout",
     "output_type": "stream",
     "text": [
      "Loading file from /Users/longtaoliu/PycharmProjects/MLCMS01/src/test2-3.json\n"
     ]
    },
    {
     "name": "stderr",
     "output_type": "stream",
     "text": [
      "Exception in Tkinter callback\n",
      "Traceback (most recent call last):\n",
      "  File \"/Users/longtaoliu/opt/anaconda3/lib/python3.7/tkinter/__init__.py\", line 1705, in __call__\n",
      "    return self.func(*args)\n",
      "  File \"/Users/longtaoliu/PycharmProjects/MLCMS01/src/classes/Grid.py\", line 158, in init_setup\n",
      "    self.load_grid(data)\n",
      "  File \"/Users/longtaoliu/PycharmProjects/MLCMS01/src/classes/Grid.py\", line 221, in load_grid\n",
      "    for row, col in data['pedestrians']:\n",
      "TypeError: 'NoneType' object is not subscriptable\n"
     ]
    },
    {
     "name": "stdout",
     "output_type": "stream",
     "text": [
      "Loading file from /Users/longtaoliu/PycharmProjects/MLCMS01/src/test2-3.json\n",
      "Loading file from /Users/longtaoliu/PycharmProjects/MLCMS01/src/test2-4.json\n",
      "Loading file from /Users/longtaoliu/PycharmProjects/MLCMS01/src/test2-4.json\n",
      "Loading file from /Users/longtaoliu/PycharmProjects/MLCMS01/src/test2-4.json\n",
      "Loading file from /Users/longtaoliu/PycharmProjects/MLCMS01/src/test2-4.json\n",
      "Loading file from /Users/longtaoliu/PycharmProjects/MLCMS01/src/test2-4.json\n",
      "Loading file from /Users/longtaoliu/PycharmProjects/MLCMS01/src/test2-5.json\n"
     ]
    }
   ],
   "source": [
    "\n",
    "from classes.Grid import *\n",
    "\n",
    "\n",
    "def run_app():\n",
    "    root = Tk()\n",
    "    root.geometry(\"1000x1000\")\n",
    "    GridWindow(root)\n",
    "    root.mainloop()\n",
    "\n",
    "\n",
    "if __name__ == '__main__':\n",
    "\n",
    "    run_app()\n",
    "\n"
   ]
  },
  {
   "cell_type": "code",
   "execution_count": null,
   "id": "9dc1c385",
   "metadata": {},
   "outputs": [],
   "source": []
  },
  {
   "cell_type": "code",
   "execution_count": null,
   "id": "8551aeb5",
   "metadata": {},
   "outputs": [],
   "source": []
  },
  {
   "cell_type": "code",
   "execution_count": null,
   "id": "0e28834c",
   "metadata": {},
   "outputs": [],
   "source": []
  }
 ],
 "metadata": {
  "kernelspec": {
   "display_name": "Python 3",
   "language": "python",
   "name": "python3"
  },
  "language_info": {
   "codemirror_mode": {
    "name": "ipython",
    "version": 3
   },
   "file_extension": ".py",
   "mimetype": "text/x-python",
   "name": "python",
   "nbconvert_exporter": "python",
   "pygments_lexer": "ipython3",
   "version": "3.7.10"
  }
 },
 "nbformat": 4,
 "nbformat_minor": 5
}
